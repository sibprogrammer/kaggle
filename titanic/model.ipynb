{
 "cells": [
  {
   "cell_type": "code",
   "execution_count": 36,
   "id": "initial_id",
   "metadata": {
    "collapsed": true,
    "ExecuteTime": {
     "end_time": "2023-09-15T14:59:02.187351Z",
     "start_time": "2023-09-15T14:59:02.183758Z"
    }
   },
   "outputs": [],
   "source": [
    "import pandas as pd "
   ]
  },
  {
   "cell_type": "code",
   "execution_count": 37,
   "outputs": [
    {
     "data": {
      "text/plain": "             Survived  SibSp  Parch     Fare  Categorized_age_(0, 10]  \\\nPassengerId                                                             \n1                   0      1      0   7.2500                    False   \n2                   1      1      0  71.2833                    False   \n3                   1      0      0   7.9250                    False   \n4                   1      1      0  53.1000                    False   \n5                   0      0      0   8.0500                    False   \n\n             Categorized_age_(10, 20]  Categorized_age_(20, 30]  \\\nPassengerId                                                       \n1                               False                      True   \n2                               False                     False   \n3                               False                      True   \n4                               False                     False   \n5                               False                     False   \n\n             Categorized_age_(30, 40]  Categorized_age_(40, 50]  \\\nPassengerId                                                       \n1                               False                     False   \n2                                True                     False   \n3                               False                     False   \n4                                True                     False   \n5                                True                     False   \n\n             Categorized_age_(50, 60]  ...  Desk_T  Desk_U  Embarked_C  \\\nPassengerId                            ...                               \n1                               False  ...   False    True       False   \n2                               False  ...   False   False        True   \n3                               False  ...   False    True       False   \n4                               False  ...   False   False       False   \n5                               False  ...   False    True       False   \n\n             Embarked_Q  Embarked_S  Sex_female  Sex_male  Pclass_1  Pclass_2  \\\nPassengerId                                                                     \n1                 False        True       False      True     False     False   \n2                 False       False        True     False      True     False   \n3                 False        True        True     False     False     False   \n4                 False        True        True     False      True     False   \n5                 False        True       False      True     False     False   \n\n             Pclass_3  \nPassengerId            \n1                True  \n2               False  \n3                True  \n4               False  \n5                True  \n\n[5 rows x 29 columns]",
      "text/html": "<div>\n<style scoped>\n    .dataframe tbody tr th:only-of-type {\n        vertical-align: middle;\n    }\n\n    .dataframe tbody tr th {\n        vertical-align: top;\n    }\n\n    .dataframe thead th {\n        text-align: right;\n    }\n</style>\n<table border=\"1\" class=\"dataframe\">\n  <thead>\n    <tr style=\"text-align: right;\">\n      <th></th>\n      <th>Survived</th>\n      <th>SibSp</th>\n      <th>Parch</th>\n      <th>Fare</th>\n      <th>Categorized_age_(0, 10]</th>\n      <th>Categorized_age_(10, 20]</th>\n      <th>Categorized_age_(20, 30]</th>\n      <th>Categorized_age_(30, 40]</th>\n      <th>Categorized_age_(40, 50]</th>\n      <th>Categorized_age_(50, 60]</th>\n      <th>...</th>\n      <th>Desk_T</th>\n      <th>Desk_U</th>\n      <th>Embarked_C</th>\n      <th>Embarked_Q</th>\n      <th>Embarked_S</th>\n      <th>Sex_female</th>\n      <th>Sex_male</th>\n      <th>Pclass_1</th>\n      <th>Pclass_2</th>\n      <th>Pclass_3</th>\n    </tr>\n    <tr>\n      <th>PassengerId</th>\n      <th></th>\n      <th></th>\n      <th></th>\n      <th></th>\n      <th></th>\n      <th></th>\n      <th></th>\n      <th></th>\n      <th></th>\n      <th></th>\n      <th></th>\n      <th></th>\n      <th></th>\n      <th></th>\n      <th></th>\n      <th></th>\n      <th></th>\n      <th></th>\n      <th></th>\n      <th></th>\n      <th></th>\n    </tr>\n  </thead>\n  <tbody>\n    <tr>\n      <th>1</th>\n      <td>0</td>\n      <td>1</td>\n      <td>0</td>\n      <td>7.2500</td>\n      <td>False</td>\n      <td>False</td>\n      <td>True</td>\n      <td>False</td>\n      <td>False</td>\n      <td>False</td>\n      <td>...</td>\n      <td>False</td>\n      <td>True</td>\n      <td>False</td>\n      <td>False</td>\n      <td>True</td>\n      <td>False</td>\n      <td>True</td>\n      <td>False</td>\n      <td>False</td>\n      <td>True</td>\n    </tr>\n    <tr>\n      <th>2</th>\n      <td>1</td>\n      <td>1</td>\n      <td>0</td>\n      <td>71.2833</td>\n      <td>False</td>\n      <td>False</td>\n      <td>False</td>\n      <td>True</td>\n      <td>False</td>\n      <td>False</td>\n      <td>...</td>\n      <td>False</td>\n      <td>False</td>\n      <td>True</td>\n      <td>False</td>\n      <td>False</td>\n      <td>True</td>\n      <td>False</td>\n      <td>True</td>\n      <td>False</td>\n      <td>False</td>\n    </tr>\n    <tr>\n      <th>3</th>\n      <td>1</td>\n      <td>0</td>\n      <td>0</td>\n      <td>7.9250</td>\n      <td>False</td>\n      <td>False</td>\n      <td>True</td>\n      <td>False</td>\n      <td>False</td>\n      <td>False</td>\n      <td>...</td>\n      <td>False</td>\n      <td>True</td>\n      <td>False</td>\n      <td>False</td>\n      <td>True</td>\n      <td>True</td>\n      <td>False</td>\n      <td>False</td>\n      <td>False</td>\n      <td>True</td>\n    </tr>\n    <tr>\n      <th>4</th>\n      <td>1</td>\n      <td>1</td>\n      <td>0</td>\n      <td>53.1000</td>\n      <td>False</td>\n      <td>False</td>\n      <td>False</td>\n      <td>True</td>\n      <td>False</td>\n      <td>False</td>\n      <td>...</td>\n      <td>False</td>\n      <td>False</td>\n      <td>False</td>\n      <td>False</td>\n      <td>True</td>\n      <td>True</td>\n      <td>False</td>\n      <td>True</td>\n      <td>False</td>\n      <td>False</td>\n    </tr>\n    <tr>\n      <th>5</th>\n      <td>0</td>\n      <td>0</td>\n      <td>0</td>\n      <td>8.0500</td>\n      <td>False</td>\n      <td>False</td>\n      <td>False</td>\n      <td>True</td>\n      <td>False</td>\n      <td>False</td>\n      <td>...</td>\n      <td>False</td>\n      <td>True</td>\n      <td>False</td>\n      <td>False</td>\n      <td>True</td>\n      <td>False</td>\n      <td>True</td>\n      <td>False</td>\n      <td>False</td>\n      <td>True</td>\n    </tr>\n  </tbody>\n</table>\n<p>5 rows × 29 columns</p>\n</div>"
     },
     "execution_count": 37,
     "metadata": {},
     "output_type": "execute_result"
    }
   ],
   "source": [
    "df = pd.read_csv('data/train_clean.csv', index_col='PassengerId')\n",
    "df.head()"
   ],
   "metadata": {
    "collapsed": false,
    "ExecuteTime": {
     "end_time": "2023-09-15T14:59:02.225252Z",
     "start_time": "2023-09-15T14:59:02.188668Z"
    }
   },
   "id": "6403e779da7b633d"
  },
  {
   "cell_type": "code",
   "execution_count": 38,
   "outputs": [],
   "source": [
    "from sklearn.model_selection import train_test_split\n",
    "\n",
    "features = df.drop(['Survived'], axis=1)\n",
    "labels = df['Survived']\n",
    "\n",
    "features_train, features_val, labels_train, labels_val = train_test_split(features, labels, test_size=0.2)"
   ],
   "metadata": {
    "collapsed": false,
    "ExecuteTime": {
     "end_time": "2023-09-15T14:59:02.229215Z",
     "start_time": "2023-09-15T14:59:02.223379Z"
    }
   },
   "id": "9cc39189a68446fc"
  },
  {
   "cell_type": "code",
   "execution_count": 39,
   "outputs": [
    {
     "data": {
      "text/plain": "0.8324022346368715"
     },
     "execution_count": 39,
     "metadata": {},
     "output_type": "execute_result"
    }
   ],
   "source": [
    "from sklearn.ensemble import RandomForestClassifier\n",
    "\n",
    "model = RandomForestClassifier(\n",
    "    n_estimators=1000,\n",
    "    max_depth=5,\n",
    ")\n",
    "model.fit(features_train, labels_train)\n",
    "model.score(features_val, labels_val)"
   ],
   "metadata": {
    "collapsed": false,
    "ExecuteTime": {
     "end_time": "2023-09-15T14:59:02.810837Z",
     "start_time": "2023-09-15T14:59:02.230056Z"
    }
   },
   "id": "35087faebe39e32b"
  },
  {
   "cell_type": "code",
   "execution_count": 40,
   "outputs": [
    {
     "data": {
      "text/plain": "             SibSp  Parch      Fare  Categorized_age_(0, 10]  \\\nPassengerId                                                    \n892              0      0    7.8292                    False   \n893              1      0    7.0000                    False   \n894              0      0    9.6875                    False   \n895              0      0    8.6625                    False   \n896              1      1   12.2875                    False   \n...            ...    ...       ...                      ...   \n1305             0      0    8.0500                    False   \n1306             0      0  108.9000                    False   \n1307             0      0    7.2500                    False   \n1308             0      0    8.0500                    False   \n1309             1      1   22.3583                    False   \n\n             Categorized_age_(10, 20]  Categorized_age_(20, 30]  \\\nPassengerId                                                       \n892                             False                     False   \n893                             False                     False   \n894                             False                     False   \n895                             False                      True   \n896                             False                      True   \n...                               ...                       ...   \n1305                            False                      True   \n1306                            False                     False   \n1307                            False                     False   \n1308                            False                      True   \n1309                            False                      True   \n\n             Categorized_age_(30, 40]  Categorized_age_(40, 50]  \\\nPassengerId                                                       \n892                              True                     False   \n893                             False                      True   \n894                             False                     False   \n895                             False                     False   \n896                             False                     False   \n...                               ...                       ...   \n1305                            False                     False   \n1306                             True                     False   \n1307                             True                     False   \n1308                            False                     False   \n1309                            False                     False   \n\n             Categorized_age_(50, 60]  Categorized_age_(60, 70]  ...  Desk_T  \\\nPassengerId                                                      ...           \n892                             False                     False  ...   False   \n893                             False                     False  ...   False   \n894                             False                      True  ...   False   \n895                             False                     False  ...   False   \n896                             False                     False  ...   False   \n...                               ...                       ...  ...     ...   \n1305                            False                     False  ...   False   \n1306                            False                     False  ...   False   \n1307                            False                     False  ...   False   \n1308                            False                     False  ...   False   \n1309                            False                     False  ...   False   \n\n             Desk_U  Embarked_C  Embarked_Q  Embarked_S  Sex_female  Sex_male  \\\nPassengerId                                                                     \n892            True       False        True       False       False      True   \n893            True       False       False        True        True     False   \n894            True       False        True       False       False      True   \n895            True       False       False        True       False      True   \n896            True       False       False        True        True     False   \n...             ...         ...         ...         ...         ...       ...   \n1305           True       False       False        True       False      True   \n1306          False        True       False       False        True     False   \n1307           True       False       False        True       False      True   \n1308           True       False       False        True       False      True   \n1309           True        True       False       False       False      True   \n\n             Pclass_1  Pclass_2  Pclass_3  \nPassengerId                                \n892             False     False      True  \n893             False     False      True  \n894             False      True     False  \n895             False     False      True  \n896             False     False      True  \n...               ...       ...       ...  \n1305            False     False      True  \n1306             True     False     False  \n1307            False     False      True  \n1308            False     False      True  \n1309            False     False      True  \n\n[418 rows x 28 columns]",
      "text/html": "<div>\n<style scoped>\n    .dataframe tbody tr th:only-of-type {\n        vertical-align: middle;\n    }\n\n    .dataframe tbody tr th {\n        vertical-align: top;\n    }\n\n    .dataframe thead th {\n        text-align: right;\n    }\n</style>\n<table border=\"1\" class=\"dataframe\">\n  <thead>\n    <tr style=\"text-align: right;\">\n      <th></th>\n      <th>SibSp</th>\n      <th>Parch</th>\n      <th>Fare</th>\n      <th>Categorized_age_(0, 10]</th>\n      <th>Categorized_age_(10, 20]</th>\n      <th>Categorized_age_(20, 30]</th>\n      <th>Categorized_age_(30, 40]</th>\n      <th>Categorized_age_(40, 50]</th>\n      <th>Categorized_age_(50, 60]</th>\n      <th>Categorized_age_(60, 70]</th>\n      <th>...</th>\n      <th>Desk_T</th>\n      <th>Desk_U</th>\n      <th>Embarked_C</th>\n      <th>Embarked_Q</th>\n      <th>Embarked_S</th>\n      <th>Sex_female</th>\n      <th>Sex_male</th>\n      <th>Pclass_1</th>\n      <th>Pclass_2</th>\n      <th>Pclass_3</th>\n    </tr>\n    <tr>\n      <th>PassengerId</th>\n      <th></th>\n      <th></th>\n      <th></th>\n      <th></th>\n      <th></th>\n      <th></th>\n      <th></th>\n      <th></th>\n      <th></th>\n      <th></th>\n      <th></th>\n      <th></th>\n      <th></th>\n      <th></th>\n      <th></th>\n      <th></th>\n      <th></th>\n      <th></th>\n      <th></th>\n      <th></th>\n      <th></th>\n    </tr>\n  </thead>\n  <tbody>\n    <tr>\n      <th>892</th>\n      <td>0</td>\n      <td>0</td>\n      <td>7.8292</td>\n      <td>False</td>\n      <td>False</td>\n      <td>False</td>\n      <td>True</td>\n      <td>False</td>\n      <td>False</td>\n      <td>False</td>\n      <td>...</td>\n      <td>False</td>\n      <td>True</td>\n      <td>False</td>\n      <td>True</td>\n      <td>False</td>\n      <td>False</td>\n      <td>True</td>\n      <td>False</td>\n      <td>False</td>\n      <td>True</td>\n    </tr>\n    <tr>\n      <th>893</th>\n      <td>1</td>\n      <td>0</td>\n      <td>7.0000</td>\n      <td>False</td>\n      <td>False</td>\n      <td>False</td>\n      <td>False</td>\n      <td>True</td>\n      <td>False</td>\n      <td>False</td>\n      <td>...</td>\n      <td>False</td>\n      <td>True</td>\n      <td>False</td>\n      <td>False</td>\n      <td>True</td>\n      <td>True</td>\n      <td>False</td>\n      <td>False</td>\n      <td>False</td>\n      <td>True</td>\n    </tr>\n    <tr>\n      <th>894</th>\n      <td>0</td>\n      <td>0</td>\n      <td>9.6875</td>\n      <td>False</td>\n      <td>False</td>\n      <td>False</td>\n      <td>False</td>\n      <td>False</td>\n      <td>False</td>\n      <td>True</td>\n      <td>...</td>\n      <td>False</td>\n      <td>True</td>\n      <td>False</td>\n      <td>True</td>\n      <td>False</td>\n      <td>False</td>\n      <td>True</td>\n      <td>False</td>\n      <td>True</td>\n      <td>False</td>\n    </tr>\n    <tr>\n      <th>895</th>\n      <td>0</td>\n      <td>0</td>\n      <td>8.6625</td>\n      <td>False</td>\n      <td>False</td>\n      <td>True</td>\n      <td>False</td>\n      <td>False</td>\n      <td>False</td>\n      <td>False</td>\n      <td>...</td>\n      <td>False</td>\n      <td>True</td>\n      <td>False</td>\n      <td>False</td>\n      <td>True</td>\n      <td>False</td>\n      <td>True</td>\n      <td>False</td>\n      <td>False</td>\n      <td>True</td>\n    </tr>\n    <tr>\n      <th>896</th>\n      <td>1</td>\n      <td>1</td>\n      <td>12.2875</td>\n      <td>False</td>\n      <td>False</td>\n      <td>True</td>\n      <td>False</td>\n      <td>False</td>\n      <td>False</td>\n      <td>False</td>\n      <td>...</td>\n      <td>False</td>\n      <td>True</td>\n      <td>False</td>\n      <td>False</td>\n      <td>True</td>\n      <td>True</td>\n      <td>False</td>\n      <td>False</td>\n      <td>False</td>\n      <td>True</td>\n    </tr>\n    <tr>\n      <th>...</th>\n      <td>...</td>\n      <td>...</td>\n      <td>...</td>\n      <td>...</td>\n      <td>...</td>\n      <td>...</td>\n      <td>...</td>\n      <td>...</td>\n      <td>...</td>\n      <td>...</td>\n      <td>...</td>\n      <td>...</td>\n      <td>...</td>\n      <td>...</td>\n      <td>...</td>\n      <td>...</td>\n      <td>...</td>\n      <td>...</td>\n      <td>...</td>\n      <td>...</td>\n      <td>...</td>\n    </tr>\n    <tr>\n      <th>1305</th>\n      <td>0</td>\n      <td>0</td>\n      <td>8.0500</td>\n      <td>False</td>\n      <td>False</td>\n      <td>True</td>\n      <td>False</td>\n      <td>False</td>\n      <td>False</td>\n      <td>False</td>\n      <td>...</td>\n      <td>False</td>\n      <td>True</td>\n      <td>False</td>\n      <td>False</td>\n      <td>True</td>\n      <td>False</td>\n      <td>True</td>\n      <td>False</td>\n      <td>False</td>\n      <td>True</td>\n    </tr>\n    <tr>\n      <th>1306</th>\n      <td>0</td>\n      <td>0</td>\n      <td>108.9000</td>\n      <td>False</td>\n      <td>False</td>\n      <td>False</td>\n      <td>True</td>\n      <td>False</td>\n      <td>False</td>\n      <td>False</td>\n      <td>...</td>\n      <td>False</td>\n      <td>False</td>\n      <td>True</td>\n      <td>False</td>\n      <td>False</td>\n      <td>True</td>\n      <td>False</td>\n      <td>True</td>\n      <td>False</td>\n      <td>False</td>\n    </tr>\n    <tr>\n      <th>1307</th>\n      <td>0</td>\n      <td>0</td>\n      <td>7.2500</td>\n      <td>False</td>\n      <td>False</td>\n      <td>False</td>\n      <td>True</td>\n      <td>False</td>\n      <td>False</td>\n      <td>False</td>\n      <td>...</td>\n      <td>False</td>\n      <td>True</td>\n      <td>False</td>\n      <td>False</td>\n      <td>True</td>\n      <td>False</td>\n      <td>True</td>\n      <td>False</td>\n      <td>False</td>\n      <td>True</td>\n    </tr>\n    <tr>\n      <th>1308</th>\n      <td>0</td>\n      <td>0</td>\n      <td>8.0500</td>\n      <td>False</td>\n      <td>False</td>\n      <td>True</td>\n      <td>False</td>\n      <td>False</td>\n      <td>False</td>\n      <td>False</td>\n      <td>...</td>\n      <td>False</td>\n      <td>True</td>\n      <td>False</td>\n      <td>False</td>\n      <td>True</td>\n      <td>False</td>\n      <td>True</td>\n      <td>False</td>\n      <td>False</td>\n      <td>True</td>\n    </tr>\n    <tr>\n      <th>1309</th>\n      <td>1</td>\n      <td>1</td>\n      <td>22.3583</td>\n      <td>False</td>\n      <td>False</td>\n      <td>True</td>\n      <td>False</td>\n      <td>False</td>\n      <td>False</td>\n      <td>False</td>\n      <td>...</td>\n      <td>False</td>\n      <td>True</td>\n      <td>True</td>\n      <td>False</td>\n      <td>False</td>\n      <td>False</td>\n      <td>True</td>\n      <td>False</td>\n      <td>False</td>\n      <td>True</td>\n    </tr>\n  </tbody>\n</table>\n<p>418 rows × 28 columns</p>\n</div>"
     },
     "execution_count": 40,
     "metadata": {},
     "output_type": "execute_result"
    }
   ],
   "source": [
    "test_df = pd.read_csv('data/test_clean.csv', index_col='PassengerId')\n",
    "test_df"
   ],
   "metadata": {
    "collapsed": false,
    "ExecuteTime": {
     "end_time": "2023-09-15T14:59:02.854761Z",
     "start_time": "2023-09-15T14:59:02.811532Z"
    }
   },
   "id": "c5aad130e217e96"
  },
  {
   "cell_type": "code",
   "execution_count": 41,
   "outputs": [
    {
     "data": {
      "text/plain": "             SibSp  Parch      Fare  Categorized_age_(0, 10]  \\\nPassengerId                                                    \n892              0      0    7.8292                    False   \n893              1      0    7.0000                    False   \n894              0      0    9.6875                    False   \n895              0      0    8.6625                    False   \n896              1      1   12.2875                    False   \n...            ...    ...       ...                      ...   \n1305             0      0    8.0500                    False   \n1306             0      0  108.9000                    False   \n1307             0      0    7.2500                    False   \n1308             0      0    8.0500                    False   \n1309             1      1   22.3583                    False   \n\n             Categorized_age_(10, 20]  Categorized_age_(20, 30]  \\\nPassengerId                                                       \n892                             False                     False   \n893                             False                     False   \n894                             False                     False   \n895                             False                      True   \n896                             False                      True   \n...                               ...                       ...   \n1305                            False                      True   \n1306                            False                     False   \n1307                            False                     False   \n1308                            False                      True   \n1309                            False                      True   \n\n             Categorized_age_(30, 40]  Categorized_age_(40, 50]  \\\nPassengerId                                                       \n892                              True                     False   \n893                             False                      True   \n894                             False                     False   \n895                             False                     False   \n896                             False                     False   \n...                               ...                       ...   \n1305                            False                     False   \n1306                             True                     False   \n1307                             True                     False   \n1308                            False                     False   \n1309                            False                     False   \n\n             Categorized_age_(50, 60]  Categorized_age_(60, 70]  ...  Desk_U  \\\nPassengerId                                                      ...           \n892                             False                     False  ...    True   \n893                             False                     False  ...    True   \n894                             False                      True  ...    True   \n895                             False                     False  ...    True   \n896                             False                     False  ...    True   \n...                               ...                       ...  ...     ...   \n1305                            False                     False  ...    True   \n1306                            False                     False  ...   False   \n1307                            False                     False  ...    True   \n1308                            False                     False  ...    True   \n1309                            False                     False  ...    True   \n\n             Embarked_C  Embarked_Q  Embarked_S  Sex_female  Sex_male  \\\nPassengerId                                                             \n892               False        True       False       False      True   \n893               False       False        True        True     False   \n894               False        True       False       False      True   \n895               False       False        True       False      True   \n896               False       False        True        True     False   \n...                 ...         ...         ...         ...       ...   \n1305              False       False        True       False      True   \n1306               True       False       False        True     False   \n1307              False       False        True       False      True   \n1308              False       False        True       False      True   \n1309               True       False       False       False      True   \n\n             Pclass_1  Pclass_2  Pclass_3  Survived  \nPassengerId                                          \n892             False     False      True         0  \n893             False     False      True         0  \n894             False      True     False         0  \n895             False     False      True         0  \n896             False     False      True         1  \n...               ...       ...       ...       ...  \n1305            False     False      True         0  \n1306             True     False     False         1  \n1307            False     False      True         0  \n1308            False     False      True         0  \n1309            False     False      True         0  \n\n[418 rows x 29 columns]",
      "text/html": "<div>\n<style scoped>\n    .dataframe tbody tr th:only-of-type {\n        vertical-align: middle;\n    }\n\n    .dataframe tbody tr th {\n        vertical-align: top;\n    }\n\n    .dataframe thead th {\n        text-align: right;\n    }\n</style>\n<table border=\"1\" class=\"dataframe\">\n  <thead>\n    <tr style=\"text-align: right;\">\n      <th></th>\n      <th>SibSp</th>\n      <th>Parch</th>\n      <th>Fare</th>\n      <th>Categorized_age_(0, 10]</th>\n      <th>Categorized_age_(10, 20]</th>\n      <th>Categorized_age_(20, 30]</th>\n      <th>Categorized_age_(30, 40]</th>\n      <th>Categorized_age_(40, 50]</th>\n      <th>Categorized_age_(50, 60]</th>\n      <th>Categorized_age_(60, 70]</th>\n      <th>...</th>\n      <th>Desk_U</th>\n      <th>Embarked_C</th>\n      <th>Embarked_Q</th>\n      <th>Embarked_S</th>\n      <th>Sex_female</th>\n      <th>Sex_male</th>\n      <th>Pclass_1</th>\n      <th>Pclass_2</th>\n      <th>Pclass_3</th>\n      <th>Survived</th>\n    </tr>\n    <tr>\n      <th>PassengerId</th>\n      <th></th>\n      <th></th>\n      <th></th>\n      <th></th>\n      <th></th>\n      <th></th>\n      <th></th>\n      <th></th>\n      <th></th>\n      <th></th>\n      <th></th>\n      <th></th>\n      <th></th>\n      <th></th>\n      <th></th>\n      <th></th>\n      <th></th>\n      <th></th>\n      <th></th>\n      <th></th>\n      <th></th>\n    </tr>\n  </thead>\n  <tbody>\n    <tr>\n      <th>892</th>\n      <td>0</td>\n      <td>0</td>\n      <td>7.8292</td>\n      <td>False</td>\n      <td>False</td>\n      <td>False</td>\n      <td>True</td>\n      <td>False</td>\n      <td>False</td>\n      <td>False</td>\n      <td>...</td>\n      <td>True</td>\n      <td>False</td>\n      <td>True</td>\n      <td>False</td>\n      <td>False</td>\n      <td>True</td>\n      <td>False</td>\n      <td>False</td>\n      <td>True</td>\n      <td>0</td>\n    </tr>\n    <tr>\n      <th>893</th>\n      <td>1</td>\n      <td>0</td>\n      <td>7.0000</td>\n      <td>False</td>\n      <td>False</td>\n      <td>False</td>\n      <td>False</td>\n      <td>True</td>\n      <td>False</td>\n      <td>False</td>\n      <td>...</td>\n      <td>True</td>\n      <td>False</td>\n      <td>False</td>\n      <td>True</td>\n      <td>True</td>\n      <td>False</td>\n      <td>False</td>\n      <td>False</td>\n      <td>True</td>\n      <td>0</td>\n    </tr>\n    <tr>\n      <th>894</th>\n      <td>0</td>\n      <td>0</td>\n      <td>9.6875</td>\n      <td>False</td>\n      <td>False</td>\n      <td>False</td>\n      <td>False</td>\n      <td>False</td>\n      <td>False</td>\n      <td>True</td>\n      <td>...</td>\n      <td>True</td>\n      <td>False</td>\n      <td>True</td>\n      <td>False</td>\n      <td>False</td>\n      <td>True</td>\n      <td>False</td>\n      <td>True</td>\n      <td>False</td>\n      <td>0</td>\n    </tr>\n    <tr>\n      <th>895</th>\n      <td>0</td>\n      <td>0</td>\n      <td>8.6625</td>\n      <td>False</td>\n      <td>False</td>\n      <td>True</td>\n      <td>False</td>\n      <td>False</td>\n      <td>False</td>\n      <td>False</td>\n      <td>...</td>\n      <td>True</td>\n      <td>False</td>\n      <td>False</td>\n      <td>True</td>\n      <td>False</td>\n      <td>True</td>\n      <td>False</td>\n      <td>False</td>\n      <td>True</td>\n      <td>0</td>\n    </tr>\n    <tr>\n      <th>896</th>\n      <td>1</td>\n      <td>1</td>\n      <td>12.2875</td>\n      <td>False</td>\n      <td>False</td>\n      <td>True</td>\n      <td>False</td>\n      <td>False</td>\n      <td>False</td>\n      <td>False</td>\n      <td>...</td>\n      <td>True</td>\n      <td>False</td>\n      <td>False</td>\n      <td>True</td>\n      <td>True</td>\n      <td>False</td>\n      <td>False</td>\n      <td>False</td>\n      <td>True</td>\n      <td>1</td>\n    </tr>\n    <tr>\n      <th>...</th>\n      <td>...</td>\n      <td>...</td>\n      <td>...</td>\n      <td>...</td>\n      <td>...</td>\n      <td>...</td>\n      <td>...</td>\n      <td>...</td>\n      <td>...</td>\n      <td>...</td>\n      <td>...</td>\n      <td>...</td>\n      <td>...</td>\n      <td>...</td>\n      <td>...</td>\n      <td>...</td>\n      <td>...</td>\n      <td>...</td>\n      <td>...</td>\n      <td>...</td>\n      <td>...</td>\n    </tr>\n    <tr>\n      <th>1305</th>\n      <td>0</td>\n      <td>0</td>\n      <td>8.0500</td>\n      <td>False</td>\n      <td>False</td>\n      <td>True</td>\n      <td>False</td>\n      <td>False</td>\n      <td>False</td>\n      <td>False</td>\n      <td>...</td>\n      <td>True</td>\n      <td>False</td>\n      <td>False</td>\n      <td>True</td>\n      <td>False</td>\n      <td>True</td>\n      <td>False</td>\n      <td>False</td>\n      <td>True</td>\n      <td>0</td>\n    </tr>\n    <tr>\n      <th>1306</th>\n      <td>0</td>\n      <td>0</td>\n      <td>108.9000</td>\n      <td>False</td>\n      <td>False</td>\n      <td>False</td>\n      <td>True</td>\n      <td>False</td>\n      <td>False</td>\n      <td>False</td>\n      <td>...</td>\n      <td>False</td>\n      <td>True</td>\n      <td>False</td>\n      <td>False</td>\n      <td>True</td>\n      <td>False</td>\n      <td>True</td>\n      <td>False</td>\n      <td>False</td>\n      <td>1</td>\n    </tr>\n    <tr>\n      <th>1307</th>\n      <td>0</td>\n      <td>0</td>\n      <td>7.2500</td>\n      <td>False</td>\n      <td>False</td>\n      <td>False</td>\n      <td>True</td>\n      <td>False</td>\n      <td>False</td>\n      <td>False</td>\n      <td>...</td>\n      <td>True</td>\n      <td>False</td>\n      <td>False</td>\n      <td>True</td>\n      <td>False</td>\n      <td>True</td>\n      <td>False</td>\n      <td>False</td>\n      <td>True</td>\n      <td>0</td>\n    </tr>\n    <tr>\n      <th>1308</th>\n      <td>0</td>\n      <td>0</td>\n      <td>8.0500</td>\n      <td>False</td>\n      <td>False</td>\n      <td>True</td>\n      <td>False</td>\n      <td>False</td>\n      <td>False</td>\n      <td>False</td>\n      <td>...</td>\n      <td>True</td>\n      <td>False</td>\n      <td>False</td>\n      <td>True</td>\n      <td>False</td>\n      <td>True</td>\n      <td>False</td>\n      <td>False</td>\n      <td>True</td>\n      <td>0</td>\n    </tr>\n    <tr>\n      <th>1309</th>\n      <td>1</td>\n      <td>1</td>\n      <td>22.3583</td>\n      <td>False</td>\n      <td>False</td>\n      <td>True</td>\n      <td>False</td>\n      <td>False</td>\n      <td>False</td>\n      <td>False</td>\n      <td>...</td>\n      <td>True</td>\n      <td>True</td>\n      <td>False</td>\n      <td>False</td>\n      <td>False</td>\n      <td>True</td>\n      <td>False</td>\n      <td>False</td>\n      <td>True</td>\n      <td>0</td>\n    </tr>\n  </tbody>\n</table>\n<p>418 rows × 29 columns</p>\n</div>"
     },
     "execution_count": 41,
     "metadata": {},
     "output_type": "execute_result"
    }
   ],
   "source": [
    "test_df['Survived'] = model.predict(test_df)\n",
    "test_df"
   ],
   "metadata": {
    "collapsed": false,
    "ExecuteTime": {
     "end_time": "2023-09-15T14:59:02.951571Z",
     "start_time": "2023-09-15T14:59:02.837653Z"
    }
   },
   "id": "922f8a0fe01e0e8f"
  },
  {
   "cell_type": "code",
   "execution_count": 42,
   "outputs": [],
   "source": [
    "test_df.to_csv('data/submission.csv', columns=['Survived'])"
   ],
   "metadata": {
    "collapsed": false,
    "ExecuteTime": {
     "end_time": "2023-09-15T14:59:02.951724Z",
     "start_time": "2023-09-15T14:59:02.881966Z"
    }
   },
   "id": "d1d79201fa010f4c"
  }
 ],
 "metadata": {
  "kernelspec": {
   "display_name": "Python 3",
   "language": "python",
   "name": "python3"
  },
  "language_info": {
   "codemirror_mode": {
    "name": "ipython",
    "version": 2
   },
   "file_extension": ".py",
   "mimetype": "text/x-python",
   "name": "python",
   "nbconvert_exporter": "python",
   "pygments_lexer": "ipython2",
   "version": "2.7.6"
  }
 },
 "nbformat": 4,
 "nbformat_minor": 5
}
